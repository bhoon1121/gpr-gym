{
 "cells": [
  {
   "cell_type": "markdown",
   "metadata": {},
   "source": [
    "# B-scan from a metal cylinder (2D)\n",
    "\n",
    "This example uses the same geometry as the previous (A-scan) example but this time a B-scan is created. A B-scan is composed of multiple traces (A-scans) recorded as the source and receiver are moved over the target, in this case the metal cylinder. The input needed to create the model is:\n",
    "\n",
    "### my_cylinder_Bscan_2D.in"
   ]
  },
  {
   "cell_type": "code",
   "execution_count": null,
   "metadata": {
    "ExecuteTime": {
     "start_time": "2019-02-10T15:42:46.368Z"
    }
   },
   "outputs": [
    {
     "name": "stdout",
     "output_type": "stream",
     "text": [
      "Overwriting gprMax/user_models/cylinder_Bscan_2D.in\n"
     ]
    }
   ],
   "source": [
    "%%writefile gprMax/user_models/cylinder_Bscan_2D.in\n",
    "#soil_peplinski: 0.5 0.5 2.0 2.66 0.001 0.25 my_soil\n",
    "------------------------------------------------------------\n",
    "#domain: 1.0 1.0 0.1\n",
    "#dx_dy_dz: 0.002 0.002 0.002\n",
    "#time_window: 12e-9\n",
    "------------------------------------------------------------\n",
    "#fractal_box: 0 0 0 1 0.75 0.1 1.5 1 1 1 50 my_soil my_soil_box 42 y\n",
    "#cylinder: 0.33 0.33 0 0.33 0.33 0.002 0.01 pec y\n",
    "-------------------------------------------------------------\n",
    "-------------------------------------------------------------\n",
    "#rx: 0.1125 0.1525 0\n",
    "#src_steps: 0.002 0.0 0\n",
    "#rx_steps: 0.002 0.0 0\n",
    "------------------------------------------------------------\n",
    "#waveform: ricker 1 1.5e9 my_ricker\n",
    "#hertzian_dipole: z 0.150 0.170 0 my_ricker\n",
    "#messages: y"
   ]
  },
  {
   "cell_type": "markdown",
   "metadata": {},
   "source": [
    "The differences between this input file and the one from the A-scan are the x coordinates of the source and receiver, and the commands needed to move the source and receiver. As before, the source and receiver are offset by 40mm from each other as before but they are now shifted to a starting position for the scan. The ``#src_steps`` command is used to move every source in the model by specified steps each time the model is run. Similarly, the ``#rx_steps`` command is used to move every receiver in the model by specified steps each time the model is run. Note, the same functionality can be achieved by using a block of Python code in the input file to move the source and receiver individually (for further details see the Python section of the User Guide)."
   ]
  },
  {
   "cell_type": "markdown",
   "metadata": {},
   "source": [
    "## Run the model\n",
    "\n",
    "To run the model to create a B-scan you must pass an optional argument to specify the number of times the model should be run. In this case this is the number of A-scans (traces) that will comprise the B-scan. For a B-scan over a distance of 120mm with a step of 2mm that is 60 A-scans. You can now run the model using:\n",
    "    \n",
    "    python -m gprMax user_models/cylinder_Bscan_2D.in -n 60"
   ]
  },
  {
   "cell_type": "code",
   "execution_count": null,
   "metadata": {
    "ExecuteTime": {
     "start_time": "2019-02-10T15:42:46.373Z"
    }
   },
   "outputs": [
    {
     "name": "stdout",
     "output_type": "stream",
     "text": [
      "\n",
      "=== Electromagnetic modelling software based on the Finite-Difference Time-Domain (FDTD) method \n",
      "\n",
      "    www.gprmax.com   __  __\n",
      "     __ _ _ __  _ __|  \\/  | __ ___  __\n",
      "    / _` | '_ \\| '__| |\\/| |/ _` \\ \\/ /\n",
      "   | (_| | |_) | |  | |  | | (_| |>  <\n",
      "    \\__, | .__/|_|  |_|  |_|\\__,_/_/\\_\\\n",
      "    |___/|_|\n",
      "                     v3.1.4 (Big Smoke)\n",
      "\n",
      " Copyright (C) 2015-2018: The University of Edinburgh\n",
      " Authors: Craig Warren and Antonis Giannopoulos\n",
      "\n",
      " gprMax is free software: you can redistribute it and/or modify it under the\n",
      "  terms of the GNU General Public License as published by the Free Software\n",
      "  Foundation, either version 3 of the License, or (at your option) any later\n",
      "  version.\n",
      " gprMax is distributed in the hope that it will be useful, but WITHOUT ANY\n",
      "  WARRANTY; without even the implied warranty of MERCHANTABILITY or FITNESS FOR\n",
      "  A PARTICULAR PURPOSE.  See the GNU General Public License for more details.\n",
      " You should have received a copy of the GNU General Public License along with\n",
      "  gprMax.  If not, see www.gnu.org/licenses.\n",
      "\n",
      "Host: dylan | MSI MS-7A75 | 1 x Intel(R) Core(TM) i7-6700K CPU @ 4.00GHz (4 cores, 8 cores with Hyper-Threading) | 15.6GiB RAM | Linux (4.15.0-43-generic, debian)\n",
      "GPU(s) detected: 0 - GeForce GTX 1080, 7.93GiB\n",
      "\n",
      "--- Model 1/200, input file: gprMax/user_models/cylinder_Bscan_2D.in ----------\n",
      "\n",
      "Constants/variables used/available for Python scripting: {c: 299792458.0, current_model_run: 1, e0: 8.854187817620389e-12, inputfile: /home/will/gpr-gym/gprMax/user_models/cylinder_Bscan_2D.in, m0: 1.2566370614359173e-06, number_model_runs: 200, z0: 376.73031346177066}\n",
      "\n",
      "Number of CPU (OpenMP) threads: 4\n",
      "GPU solving using: 0 - GeForce GTX 1080\n",
      "Spatial discretisation: 0.002 x 0.002 x 0.002m\n",
      "Domain size: 1 x 1 x 0.1m (500 x 500 x 50 = 1.25e+07 cells)\n",
      "Mode: 3D\n",
      "Time step (at CFL limit): 3.85167e-12 secs\n",
      "Time window: 1.2e-08 secs (3117 iterations)\n",
      "Simple sources will step 0.002m, 0m, 0m for each model run.\n",
      "All receivers will step 0.002m, 0m, 0m for each model run.\n",
      "\n",
      "Waveform my_ricker of type ricker with maximum amplitude scaling 1, frequency 1.5e+09Hz created.\n",
      "WARNING: '#hertzian_dipole: z 0.150 0.170 0 my_ricker' sources and receivers should not normally be positioned within the PML.\n",
      "Hertzian dipole with polarity z at 0.15m, 0.17m, 0m, using waveform my_ricker created.\n",
      "WARNING: '#rx: 0.1125 0.1525 0' sources and receivers should not normally be positioned within the PML.\n",
      "Receiver at 0.112m, 0.152m, 0m with output component(s) Ex, Ey, Ez, Hx, Hy, Hz created.\n",
      "Mixing model (Peplinski) used to create my_soil with sand fraction 0.5, clay fraction 0.5, bulk density 2g/cm3, sand particle density 2.66g/cm3, and water volumetric fraction 0.001 to 0.25 created.\n",
      "\n",
      "Total memory (RAM) required: ~950MB\n",
      "\n",
      "Fractal box my_soil_box from 0m, 0m, 0m, to 1m, 0.75m, 0.1m with my_soil, fractal dimension 1.5, fractal weightings 1, 1, 1, fractal seeding 42, with 50 material(s) created, dielectric smoothing is on.\n",
      "Cylinder with face centres 0.33m, 0.33m, 0m and 0.33m, 0.33m, 0.002m, with radius 0.01m, of material(s) pec created, dielectric smoothing is off.\n",
      "Processing geometry related cmds: 100%|████████| 2/2 [00:02<00:00,  1.04s/cmds]\n",
      "\n",
      "PML boundaries: 10 cells\n",
      "Building PML boundaries: 100%|███████████████████| 6/6 [00:15<00:00,  2.32s/it]\n",
      "\n",
      "Building main grid:   0%|                                | 0/2 [00:00<?, ?it/s]"
     ]
    }
   ],
   "source": [
    "import os\n",
    "from gprMax.gprMax import api\n",
    "\n",
    "filename = os.path.join('gprMax', 'user_models', 'cylinder_Bscan_2D.in')\n",
    "api(filename, n=200, geometry_only=False, gpu=[0])"
   ]
  },
  {
   "cell_type": "markdown",
   "metadata": {},
   "source": [
    "## View the results\n",
    "\n",
    "### Merge A-scans into B-scan\n",
    "\n",
    "You should have produced 60 output files, one for each A-scan, with names ``my_cylinder_Bscan_2D1.out``, ``my_cylinder_Bscan_2D2.out`` etc... These can be combined into a single file using the command:\n",
    "\n",
    "    python -m tools.outputfiles_merge user_models/cylinder_Bscan_2D"
   ]
  },
  {
   "cell_type": "code",
   "execution_count": null,
   "metadata": {
    "ExecuteTime": {
     "start_time": "2019-02-10T15:42:46.375Z"
    }
   },
   "outputs": [],
   "source": [
    "from tools.outputfiles_merge import merge_files\n",
    "filename = os.path.join('gprMax', 'user_models', 'cylinder_Bscan_2D')\n",
    "merge_files(filename, removefiles=True)"
   ]
  },
  {
   "cell_type": "markdown",
   "metadata": {},
   "source": [
    "You should see a combined output file ``cylinder_Bscan_2D_merged.out``. The tool will ask you if you want to delete the original single A-scan output files or keep them.\n",
    "\n",
    "### Plot the B-scan\n",
    "\n",
    "You can plot the B-scan using:\n",
    "\n",
    "    python -m tools.plot_Bscan user_models/cylinder_Bscan_2D_merged.out Ez"
   ]
  },
  {
   "cell_type": "code",
   "execution_count": null,
   "metadata": {
    "ExecuteTime": {
     "start_time": "2019-02-10T15:42:46.378Z"
    }
   },
   "outputs": [],
   "source": [
    "%matplotlib inline\n",
    "import os\n",
    "from tools.plot_Bscan import get_output_data, mpl_plot\n",
    "import numpy as np\n",
    "from utils import save_img\n",
    "\n",
    "filename = os.path.join('gprMax','user_models', 'cylinder_Bscan_2D_merged.out')\n",
    "rxnumber = 1\n",
    "rxcomponent = 'Ez'\n",
    "outputdata, dt = get_output_data(filename, rxnumber, rxcomponent)\n",
    "outputdata = outputdata - np.mean(outputdata, axis=1, keepdims=True)\n",
    "outputdata = outputdata * (\n",
    "    np.arange(outputdata.shape[0])/outputdata.shape[0]).reshape(outputdata.shape[0], 1)\n",
    "save_img(filename, outputdata, dt, rxnumber, rxcomponent, 'output-files')\n",
    "\n",
    "plot = mpl_plot(filename, outputdata, dt, rxnumber, rxcomponent)"
   ]
  },
  {
   "cell_type": "markdown",
   "metadata": {},
   "source": [
    "The B-scan (of the $E_z$ field component) shows the initial part of the signal (~0.5-1.5 ns) which represents the direct wave from transmitter to receiver. Then comes the refelected wave (~2-3 ns) from the metal cylinder which creates the hyperbolic shape."
   ]
  },
  {
   "cell_type": "code",
   "execution_count": null,
   "metadata": {
    "ExecuteTime": {
     "start_time": "2019-02-10T15:42:46.381Z"
    }
   },
   "outputs": [],
   "source": [
    "from scipy import signal\n",
    "import numpy as np\n",
    "import matplotlib.pyplot as plt\n",
    "\n",
    "inputs = outputdata[:, 32]\n",
    "\n",
    "\n",
    "print(inputs.shape)\n",
    "f, t, Zxx = signal.stft(inputs, window='hann', nfft=1024, nperseg=64)\n",
    "\n",
    "f = f*1000\n",
    "plt.figure(figsize=(10, 5)).patch.set_facecolor('white')\n",
    "plt.pcolormesh(f, t, np.abs(Zxx).transpose(), vmin=0)\n",
    "plt.title(\"STFT of A-scan\")\n",
    "plt.ylim(t.max(), 0)\n",
    "plt.xlim(0, f.max())\n",
    "plt.ylabel('Time (ns)')\n",
    "plt.xlabel('Frequency (MHz)')\n",
    "plt.set_cmap('viridis')\n",
    "plt.colorbar().set_label('Magnitude')"
   ]
  },
  {
   "cell_type": "code",
   "execution_count": null,
   "metadata": {
    "ExecuteTime": {
     "start_time": "2019-02-10T15:42:46.382Z"
    }
   },
   "outputs": [],
   "source": [
    "plt.plot(inputs)"
   ]
  },
  {
   "cell_type": "code",
   "execution_count": null,
   "metadata": {
    "ExecuteTime": {
     "start_time": "2019-02-10T15:42:46.386Z"
    }
   },
   "outputs": [],
   "source": [
    "def stft(inputs, index):\n",
    "    f, t, zxx = signal.stft(inputs[:, index], window='hann', nperseg=4, nfft=2048, padded=None, boundary=None)\n",
    "    return f, t, zxx\n",
    "\n",
    "spects = []\n",
    "freqs = []\n",
    "times = []\n",
    "for i in range(len(outputdata[0,:])):\n",
    "    f, t, zxx = stft(outputdata, i)\n",
    "    freqs.append(f)\n",
    "    times.append(t)\n",
    "    spects.append(np.abs(zxx))\n",
    "    \n",
    "spects = np.array(spects)\n",
    "freqs = np.array(freqs)\n",
    "times = np.array(times)\n",
    "spects = np.amax(spects, axis=1)\n",
    "print(spects.shape)\n",
    "print(freqs.shape)\n",
    "print(times.shape)\n",
    "\n",
    "print(freqs.max())\n",
    "plt.figure(figsize=(10,5)).patch.set_facecolor('white')\n",
    "plt.xlim(0, len(spects[:,0]))\n",
    "plt.ylim(len(spects[0,:]), 0)\n",
    "plt.ylabel('Time (ns)')\n",
    "plt.xlabel('Trace Number')\n",
    "plt.pcolormesh(spects.transpose()).set_label('Frequency (MHz)')\n",
    "plt.title('Frequency Distribution of B-scan')\n",
    "plt.set_cmap('viridis')\n",
    "plt.tight_layout()\n",
    "plt.colorbar().set_label('Frequency (MHz)')\n",
    "plt.savefig('freqency_dist_bscan.png')"
   ]
  },
  {
   "cell_type": "code",
   "execution_count": null,
   "metadata": {
    "ExecuteTime": {
     "start_time": "2019-02-10T15:42:46.389Z"
    }
   },
   "outputs": [],
   "source": [
    "spects.reshape(2, -1).shape"
   ]
  },
  {
   "cell_type": "code",
   "execution_count": null,
   "metadata": {
    "ExecuteTime": {
     "start_time": "2019-02-10T15:42:46.391Z"
    }
   },
   "outputs": [],
   "source": [
    "plt.pcolormesh(freqs.transpose())"
   ]
  }
 ],
 "metadata": {
  "kernelspec": {
   "display_name": "gpr-gym",
   "language": "python",
   "name": "gpr-gym"
  },
  "language_info": {
   "codemirror_mode": {
    "name": "ipython",
    "version": 3
   },
   "file_extension": ".py",
   "mimetype": "text/x-python",
   "name": "python",
   "nbconvert_exporter": "python",
   "pygments_lexer": "ipython3",
   "version": "3.6.6"
  },
  "latex_envs": {
   "LaTeX_envs_menu_present": true,
   "autoclose": false,
   "autocomplete": true,
   "bibliofile": "biblio.bib",
   "cite_by": "apalike",
   "current_citInitial": 1,
   "eqLabelWithNumbers": true,
   "eqNumInitial": 1,
   "hotkeys": {
    "equation": "Ctrl-E",
    "itemize": "Ctrl-I"
   },
   "labels_anchors": false,
   "latex_user_defs": false,
   "report_style_numbering": false,
   "user_envs_cfg": false
  }
 },
 "nbformat": 4,
 "nbformat_minor": 1
}
