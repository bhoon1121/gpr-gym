{
 "cells": [
  {
   "cell_type": "code",
   "execution_count": 1,
   "metadata": {
    "ExecuteTime": {
     "end_time": "2019-02-07T21:45:40.725155Z",
     "start_time": "2019-02-07T21:45:39.452376Z"
    }
   },
   "outputs": [
    {
     "name": "stderr",
     "output_type": "stream",
     "text": [
      "Using TensorFlow backend.\n"
     ]
    }
   ],
   "source": [
    "import os\n",
    "import numpy as np\n",
    "import pandas as pd\n",
    "import tensorflow as tf\n",
    "import keras\n",
    "import matplotlib.pyplot as plt\n",
    "from scipy import signal\n",
    "from tensorflow.keras.preprocessing import image\n",
    "import tensorflow.keras.backend as K\n",
    "from glob import glob\n",
    "import math\n",
    "from sklearn.model_selection import train_test_split\n",
    "from PIL.ImageOps import invert\n",
    "from keras.utils import plot_model\n",
    "from sklearn.metrics import classification_report\n",
    "from gprGAN import gprGAN\n",
    "import numpy as np\n",
    "from tensorflow.keras.preprocessing import image\n",
    "from sklearn.metrics import accuracy_score, classification_report\n",
    "from keras.datasets import mnist\n",
    "from keras.layers.merge import _Merge, multiply\n",
    "from keras.layers import Input, Dense, Reshape, Flatten, Dropout, Embedding\n",
    "from keras.layers import BatchNormalization, Activation, ZeroPadding2D\n",
    "from keras.layers.advanced_activations import LeakyReLU\n",
    "from keras.layers.convolutional import UpSampling2D, Conv2D\n",
    "from keras.models import Sequential, Model\n",
    "from keras.optimizers import Adam, RMSprop\n",
    "from functools import partial\n",
    "import tensorflow as tf\n",
    "from keras.utils import to_categorical\n",
    "\n",
    "np.random.seed(1234)\n",
    "tf.set_random_seed(1234)\n",
    "\n",
    "os.environ[\"CUDA_VISIBLE_DEVICES\"]=\"0\"\n",
    "\n",
    "\n",
    "from keras.backend.tensorflow_backend import set_session \n",
    "config = tf.ConfigProto() \n",
    "config.gpu_options.per_process_gpu_memory_fraction = 0.4\n",
    "config.gpu_options.allow_growth = True \n",
    "# dynamically grow the memory used on the GPU\n",
    "config.log_device_placement = True # to log device placement (on which device the operation ran) \n",
    "# (nothing gets printed in Jupyter, only if you run it standalone) \n",
    "sess = tf.Session(config=config)\n",
    "set_session(sess) # set this TensorFlow session as the default session for Keras"
   ]
  },
  {
   "cell_type": "code",
   "execution_count": 2,
   "metadata": {
    "ExecuteTime": {
     "end_time": "2019-02-07T21:45:42.255148Z",
     "start_time": "2019-02-07T21:45:40.726317Z"
    }
   },
   "outputs": [
    {
     "name": "stdout",
     "output_type": "stream",
     "text": [
      "(117, 256, 256, 1) (117,)\n"
     ]
    }
   ],
   "source": [
    "concrete_paths = glob('../test-set/preprocessed/*_concrete_*')\n",
    "metallic_paths = glob('../test-set/preprocessed/*_pec_*')\n",
    "plastic_paths = glob('../test-set/preprocessed/*_pvc_*')\n",
    "\n",
    "def load_img(path):\n",
    "    img = image.load_img(path, color_mode='grayscale', target_size=(256,256), interpolation='hamming')\n",
    "    img = invert(img)\n",
    "    return image.img_to_array(img)\n",
    "\n",
    "concrete_scans = np.array([load_img(path) for path in concrete_paths])\n",
    "metallic_scans = np.array([load_img(path) for path in metallic_paths])\n",
    "plastic_scans = np.array([load_img(path) for path in plastic_paths])\n",
    "\n",
    "concrete_labels = np.zeros((len(concrete_scans),))\n",
    "metallic_labels = np.ones((len(metallic_scans),))\n",
    "plastic_labels = np.ones((len(plastic_scans),)) * 2\n",
    "\n",
    "y = np.concatenate([concrete_labels, metallic_labels, plastic_labels]).astype(np.int32)\n",
    "a_scans = np.concatenate([concrete_scans, metallic_scans, plastic_scans])\n",
    "\n",
    "a_scans = (a_scans.astype(np.float32) - 127.5) / 127.5\n",
    "#y = to_categorical(y, 3)\n",
    "\n",
    "X_train, X_test, y_train, y_test = train_test_split(a_scans, y, test_size=0.3)\n",
    "print(X_train.shape, y_train.shape)"
   ]
  },
  {
   "cell_type": "code",
   "execution_count": 3,
   "metadata": {
    "ExecuteTime": {
     "end_time": "2019-02-07T21:45:42.260696Z",
     "start_time": "2019-02-07T21:45:42.256771Z"
    }
   },
   "outputs": [],
   "source": [
    "def build_classifier():\n",
    "    model = Sequential()\n",
    "    model.add(Conv2D(16, kernel_size=5, strides=2, padding=\"same\", input_shape=(256, 256, 1)))\n",
    "    model.add(LeakyReLU(alpha=0.3))\n",
    "    #model.add(BatchNormalization(momentum=0.8))\n",
    "    #model.add(Dropout(0.75))\n",
    "    model.add(Conv2D(32, kernel_size=5, strides=2, padding=\"same\"))\n",
    "    #model.add(BatchNormalization(momentum=0.8))\n",
    "    model.add(LeakyReLU(alpha=0.3))\n",
    "    #model.add(Dropout(0.75))\n",
    "    model.add(Flatten())\n",
    "    model.add(Dense(3, activation='softmax'))\n",
    "    img = Input(shape=(256, 256, 1))\n",
    "        \n",
    "    label = model(img)\n",
    "        \n",
    "    return Model(img, label)\n",
    "\n",
    "callback = keras.callbacks.ModelCheckpoint('./checkpoints/aux.h5', monitor='val_acc', verbose=0, save_best_only=True)"
   ]
  },
  {
   "cell_type": "code",
   "execution_count": 4,
   "metadata": {
    "ExecuteTime": {
     "end_time": "2019-02-07T22:01:00.779499Z",
     "start_time": "2019-02-07T21:45:42.262491Z"
    }
   },
   "outputs": [
    {
     "data": {
      "text/plain": [
       "<keras.callbacks.History at 0x7f361f844780>"
      ]
     },
     "execution_count": 4,
     "metadata": {},
     "output_type": "execute_result"
    }
   ],
   "source": [
    "model = build_classifier()\n",
    "model.compile(loss='sparse_categorical_crossentropy', optimizer='adam', metrics=['accuracy'])\n",
    "\n",
    "model.fit(X_train, y_train, batch_size=2, epochs=1000, validation_data=[X_test, y_test], callbacks=[callback], verbose=0)"
   ]
  },
  {
   "cell_type": "code",
   "execution_count": 5,
   "metadata": {
    "ExecuteTime": {
     "end_time": "2019-02-07T22:01:00.880136Z",
     "start_time": "2019-02-07T22:01:00.780482Z"
    }
   },
   "outputs": [
    {
     "name": "stdout",
     "output_type": "stream",
     "text": [
      "0.8235294117647058\n",
      "              precision    recall  f1-score   support\n",
      "\n",
      "           0       0.92      0.96      0.94        25\n",
      "           1       0.69      0.82      0.75        11\n",
      "           2       0.75      0.60      0.67        15\n",
      "\n",
      "   micro avg       0.82      0.82      0.82        51\n",
      "   macro avg       0.79      0.79      0.79        51\n",
      "weighted avg       0.82      0.82      0.82        51\n",
      "\n"
     ]
    }
   ],
   "source": [
    "model.load_weights('./checkpoints/aux.h5')\n",
    "y_pred = model.predict(X_test)\n",
    "y_pred = np.argmax(y_pred, axis=1)\n",
    "print(accuracy_score(y_test, y_pred))\n",
    "print(classification_report(y_test, y_pred))"
   ]
  }
 ],
 "metadata": {
  "kernelspec": {
   "display_name": "gpr-gym",
   "language": "python",
   "name": "gpr-gym"
  },
  "language_info": {
   "codemirror_mode": {
    "name": "ipython",
    "version": 3
   },
   "file_extension": ".py",
   "mimetype": "text/x-python",
   "name": "python",
   "nbconvert_exporter": "python",
   "pygments_lexer": "ipython3",
   "version": "3.6.6"
  }
 },
 "nbformat": 4,
 "nbformat_minor": 2
}
